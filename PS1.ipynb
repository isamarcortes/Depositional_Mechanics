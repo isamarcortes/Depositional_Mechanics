{
 "cells": [
  {
   "cell_type": "markdown",
   "id": "e40be6ea",
   "metadata": {},
   "source": [
    "<h1>Problem set 1</h1>\n",
    "<p><b>Sergio Villamarin</b></p>"
   ]
  },
  {
   "cell_type": "code",
   "execution_count": 2,
   "id": "f778da9e",
   "metadata": {},
   "outputs": [],
   "source": [
    "import matplotlib\n",
    "import math\n",
    "import numpy as np"
   ]
  },
  {
   "cell_type": "markdown",
   "id": "965e2f99",
   "metadata": {},
   "source": [
    "<h3>P1</h3>\n",
    "<p>The set of defining equations for this problem are:</p>"
   ]
  },
  {
   "cell_type": "markdown",
   "id": "3936568d",
   "metadata": {},
   "source": [
    "$$q_s(x,0)=q_s(x)=q_{s_0}+a\\eta(x)$$\n",
    "$$\\eta(x,0)=b\\sin(kx)$$\n",
    "$$\\frac{\\partial \\eta}{\\partial t}=-\\frac{1}{\\varepsilon_0}\\frac{\\partial q_s}{\\partial x}$$"
   ]
  },
  {
   "cell_type": "markdown",
   "id": "5e6e65a9",
   "metadata": {},
   "source": [
    "From these we can find a closed expresion for $\\frac{\\partial \\eta}{\\partial t}$"
   ]
  },
  {
   "cell_type": "markdown",
   "id": "0a8dda50",
   "metadata": {},
   "source": [
    "$$\n",
    "\\begin{align*}\n",
    "    \\frac{\\partial \\eta}{\\partial t}&=-\\frac{1}{\\varepsilon_0}\\frac{\\partial q_s}{\\partial x}\\\\\n",
    "    &=-\\frac{1}{\\varepsilon_0}\\frac{\\partial}{\\partial x}\\left(q_{s_0}+a\\eta(x)\\right) \\\\\n",
    "    &=-\\frac{a}{\\varepsilon_0}\\frac{\\partial \\eta}{\\partial x} \\\\\n",
    "    &=-\\frac{a}{\\varepsilon_0}\\frac{\\partial}{\\partial x}\\left( b\\sin(kx) \\right) \\\\\n",
    "    &=-\\frac{a}{\\varepsilon_0}bk\\cos(kx)    \n",
    "\\end{align*}\n",
    "$$"
   ]
  },
  {
   "cell_type": "markdown",
   "id": "eaf42b36",
   "metadata": {},
   "source": []
  },
  {
   "cell_type": "markdown",
   "id": "5a5dfd57",
   "metadata": {},
   "source": []
  }
 ],
 "metadata": {
  "kernelspec": {
   "display_name": "Python 3",
   "language": "python",
   "name": "python3"
  },
  "language_info": {
   "codemirror_mode": {
    "name": "ipython",
    "version": 3
   },
   "file_extension": ".py",
   "mimetype": "text/x-python",
   "name": "python",
   "nbconvert_exporter": "python",
   "pygments_lexer": "ipython3",
   "version": "3.8.10"
  }
 },
 "nbformat": 4,
 "nbformat_minor": 5
}
