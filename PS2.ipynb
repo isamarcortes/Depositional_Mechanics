{
 "cells": [
  {
   "cell_type": "markdown",
   "id": "e40be6ea",
   "metadata": {},
   "source": [
    "<h1>Problem set 1</h1>\n",
    "<p><b>Sergio Villamarin</b></p>"
   ]
  },
  {
   "cell_type": "markdown",
   "id": "965e2f99",
   "metadata": {},
   "source": [
    "<h3>P1</h3>\n",
    "<p>We will state the given properties for the problem: </p>"
   ]
  },
  {
   "cell_type": "markdown",
   "id": "3936568d",
   "metadata": {},
   "source": [
    "$$\n",
    "\\begin{array}{ccccc}\n",
    "\\frac{\\delta_v u_*}{\\nu}=11.6, & z_0=\\frac{\\delta_v}{104}, & h=1, & S=10^{-4}, & k_s=10^{-4} \\\\[8pt]\n",
    "\\nu=1.22\\cdot 10^{-6}, & \\rho =1072\n",
    "\\end{array}\n",
    "$$"
   ]
  },
  {
   "cell_type": "markdown",
   "id": "21b608b7",
   "metadata": {},
   "source": [
    "where \n",
    "- $\\delta_v$ is the height of the viscous layer, \n",
    "- $z_0$ is the near zero boundary of zero velocity, \n",
    "- $u_*$ is the sheer velocity, \n",
    "- $\\nu$ is the kinematic viscosity, \n",
    "- $h$ is the height of the river, \n",
    "- $S$ is the slope of the water surface, \n",
    "- $k_s$ is the roughness parameter for the smooth mudstone bottom, and \n",
    "- $\\rho$ is the water density. "
   ]
  },
  {
   "cell_type": "markdown",
   "id": "6afdde9f",
   "metadata": {},
   "source": [
    "#### a) calculate and plot the velocity profile described by the Law of the Wall\n",
    "The set of conditions mentioned are the ones used in the derivation of the law of the wall (we'll add the incompresibility of fluid as well). Therefore... we can apply the law of the wall. \n",
    "\n",
    "Before we do so let's find $u_*$. First we the stress on the bed\n",
    "$$\\tau_b=\\rho g h S=1072\\cdot 9.8 \\cdot 1 \\cdot 10^{-4}=1.05056$$\n",
    "and therefore\n",
    "$$u_*=\\sqrt{\\tau_b/\\rho}=\\sqrt{1.05056/1072}=0.0313.$$\n",
    "Additionally we infer from this that\n",
    "$$\\delta_v=11.6\\frac{\\nu}{u_*}=11.6\\frac{1.22\\cdot 10^{-6}}{0.0313}=0.000452$$"
   ]
  },
  {
   "cell_type": "markdown",
   "id": "11d90c41",
   "metadata": {},
   "source": [
    "Recall that the velocity profile is given by\n",
    "$$\n",
    "u(z)=\\frac{u_*}{k}\\ln (z/z_0)=\\frac{0.0313}{0.407}\\ln (z 104/0.000452)\\approx 0.0769\\ln (230088 z)\n",
    "$$\n",
    "we will be plotting this profile from the near boundary layer to the end of the viscous sublayer, i.e. from $\\frac{\\delta_v}{104}$ to $\\delta_v$."
   ]
  },
  {
   "cell_type": "code",
   "execution_count": 1,
   "id": "71d87989",
   "metadata": {},
   "outputs": [],
   "source": [
    "import math\n",
    "import numpy as np\n",
    "import matplotlib.pyplot as plt\n",
    "import seaborn as sns"
   ]
  },
  {
   "cell_type": "code",
   "execution_count": 8,
   "id": "3d7b5e43",
   "metadata": {},
   "outputs": [
    {
     "data": {
      "image/png": "[encoded data removed]",
      "text/plain": [
       "<Figure size 600x400 with 1 Axes>"
      ]
     },
     "metadata": {
      "needs_background": "light"
     },
     "output_type": "display_data"
    }
   ],
   "source": [
    "\n",
    "#domain of z\n",
    "z0=0.000452/104;\n",
    "delta=0.000452;\n",
    "zstep=delta/150;\n",
    "z=np.arange(z0,delta,zstep);\n",
    "\n",
    "#velocity profile\n",
    "u=0.0769*np.log(230088*z);\n",
    "plt.plot(u,z);\n",
    "\n",
    "#style plot\n",
    "plt.title(\"velocity profile\");\n",
    "axis=plt.gca();\n",
    "axis.set_xlabel(\"velocity $u$ (m/s)\");\n",
    "axis.set_ylabel(\"elevation $z$ (m)\");\n",
    "fig=plt.gcf();\n",
    "fig.set_dpi(100)"
   ]
  },
  {
   "cell_type": "markdown",
   "id": "5e6e65a9",
   "metadata": {},
   "source": [
    "#### b) Find the ... velocity profile found in the viscous boundary ... using the constitutive law ... linear viscous fluid\n",
    "\n",
    "Okay, so the constitutive law uses the molecular viscosity $\\mu$ so we find that \n",
    "$$\\mu=\\nu\\rho=1072\\cdot 1.22\\cdot 10^{-6}=0.00131.$$ \n",
    "Now the constitutive law for linear viscous fluids says that the shear stress is proportional to the strain rate, so when we are on the viscous boundary we have\n",
    "$$1.05056=\\tau_b\\approx \\tau_{zx}=\\mu\\frac{\\partial u}{\\partial z}=0.00131\\frac{\\partial u}{\\partial z} $$\n",
    "so \n",
    "$$\\frac{\\partial u}{\\partial z} =802 $$\n",
    "which implies that for $z_0\\leq z\\leq\\delta_0$\n",
    "$$u=802 z' {\\Large|} _{z_0}^{z}= 802(z-z_0) $$"
   ]
  },
  {
   "cell_type": "markdown",
   "id": "0a8dda50",
   "metadata": {},
   "source": [
    "#### c) Plot the velocity profile within the viscous sublayer on the same graph with the profile describing the turbulent interior flow."
   ]
  },
  {
   "cell_type": "markdown",
   "id": "e9e78b33",
   "metadata": {},
   "source": [
    "#### d) What is the Froude number for the channel flow...?\n",
    "The Froude number is \n",
    "$$Fr=\\frac{u}{\\sqrt{gh}}=\\frac{u}{\\sqrt{9.8\\cdot 1}}$$"
   ]
  },
  {
   "cell_type": "markdown",
   "id": "4a7a59da",
   "metadata": {},
   "source": [
    "### P2\n",
    "\n",
    "I don't know if I feel like doing that work here hmmm"
   ]
  },
  {
   "cell_type": "markdown",
   "id": "4bdeeb44",
   "metadata": {},
   "source": []
  }
 ],
 "metadata": {
  "kernelspec": {
   "display_name": "Python 3",
   "language": "python",
   "name": "python3"
  },
  "language_info": {
   "codemirror_mode": {
    "name": "ipython",
    "version": 3
   },
   "file_extension": ".py",
   "mimetype": "text/x-python",
   "name": "python",
   "nbconvert_exporter": "python",
   "pygments_lexer": "ipython3",
   "version": "3.8.10"
  }
 },
 "nbformat": 4,
 "nbformat_minor": 5
}
