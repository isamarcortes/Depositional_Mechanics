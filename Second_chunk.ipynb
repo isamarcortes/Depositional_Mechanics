{
 "cells": [
  {
   "cell_type": "markdown",
   "metadata": {},
   "source": [
    "## Navier-Stokes equation\n",
    "We will analize the NS equations here. First we will sorta homogenize the equation to make it dimensionless. The NS equations we will refer here is"
   ]
  },
  {
   "cell_type": "markdown",
   "metadata": {},
   "source": [
    "$$\\rho \\frac{dU}{dt}+\\rho U\\nabla U=-\\rho g-\\nabla P+\\mu\\nabla^2U$$"
   ]
  },
  {
   "cell_type": "markdown",
   "metadata": {},
   "source": [
    "so the dimension evaluation becomes"
   ]
  },
  {
   "cell_type": "markdown",
   "metadata": {},
   "source": [
    "$$\\rho U/T +\\rho?=-\\rho g?-P/T+\\mu U/T^2$$"
   ]
  },
  {
   "cell_type": "markdown",
   "metadata": {},
   "source": [
    "if we associate $\\overline{U}$ with a time average of the velocity at one location over a given time period then (using some other properties of the \"mean\" process) we get"
   ]
  },
  {
   "cell_type": "markdown",
   "metadata": {},
   "source": [
    "$$\\rho \\frac{d\\overline{U}}{dt}+\\rho \\overline{U}\\nabla \\overline{U}=\n",
    "-\\rho g-\\nabla \\overline{P}+\\mu\\nabla^2\\overline{U}+\\rho\\nabla\\overline{(U')^2}$$"
   ]
  },
  {
   "cell_type": "markdown",
   "metadata": {},
   "source": [
    "The Reynold's stress associated with a process is \n",
    "$$ \\tau_R=\\rho\\nabla\\overline{(U')^2} \\approx \\rho \\frac{\\partial u'w'}{\\partial z} = \\rho K \\frac{\\partial u}{\\partial z}$$\n",
    "where we call $K$ an Eddy viscosity (same dimensions as kinematic viscosity) but enphasize that it is not equal to kinematic viscosity, i.e. :\n",
    "$$K\\neq \\nu= \\frac{\\mu}{\\rho}$$\n",
    "where $\\nu$ is kinematic viscosity and $\\mu$ is the molecular viscosity.\n",
    "\n"
   ]
  },
  {
   "cell_type": "markdown",
   "metadata": {},
   "source": [
    "Shear velocity takes into account the the vertical location from the Eddy viscosity\n",
    "$$K=kz\\left(1-\\frac{z}{h}\\right)u_*$$\n",
    "where k is the von karmen's constant and h is the height of the river at that location.\n",
    "We do all of this because we want to solve the issue that in this scale the molecular viscosity is no longer the dominant cause of fluid stress."
   ]
  },
  {
   "cell_type": "markdown",
   "metadata": {},
   "source": [
    "Note: we use Einsteins notation, so sub indices mean sum over those indices"
   ]
  },
  {
   "cell_type": "markdown",
   "metadata": {},
   "source": [
    "Normal flow == Steady flow + Horizontally uniform "
   ]
  },
  {
   "cell_type": "markdown",
   "metadata": {},
   "source": [
    " Our stress on the bed from the downstream direction, after simplifying becomes\n",
    " $$\n",
    " \\frac{\\partial\\tau_{zx}}{\\partial z}=\\rho g S\n",
    " $$\n",
    "where $S=\\frac{\\Delta z}{\\Delta x}\\approx \\sin(\\alpha)$ is the slope of the bed. And so integrating we get the near bed shear stress ($z=0$)\n",
    "$$\n",
    "\\tau_b=\\rho g h S\n",
    "$$\n",
    "\n"
   ]
  },
  {
   "cell_type": "markdown",
   "metadata": {},
   "source": [
    "Now, we extract a \"shear velocity\" from the shear stress as a velocity representation of the shear stress\n",
    "\n",
    "$$ \\tau_{zx}=\\rho k u_* z \\left(1-\\frac{z}{h}\\right)\\frac{\\partial u}{\\partial z}=\\rho u_*^2 $$"
   ]
  },
  {
   "cell_type": "markdown",
   "metadata": {},
   "source": []
  }
 ],
 "metadata": {
  "language_info": {
   "name": "python"
  },
  "orig_nbformat": 4
 },
 "nbformat": 4,
 "nbformat_minor": 2
}
