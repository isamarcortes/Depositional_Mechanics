{
 "cells": [
  {
   "cell_type": "markdown",
   "metadata": {},
   "source": [
    "## More stuff\n",
    "After doing some \"width average water flux\" $\\langle u \\rangle$ $[L^2/T]$ from integrating vertically that flux from last class we get a new relationship\n",
    "\n",
    "$$\\langle u \\rangle =\\sqrt{\\frac{\\tau_b}{\\rho C_f} } $$\n",
    "\n",
    "where $C_f$ is called a friction coefficient\n",
    "\n",
    "$$C_f^{-1}=\\frac{1}{k^2}\\left(\\ln\\left(\\frac{h}{z_0}\\right)-1\\right)^2$$"
   ]
  },
  {
   "cell_type": "markdown",
   "metadata": {},
   "source": [
    "and now if we try to calculate the drag force on a spherical particule like\n",
    "$$F_D=\\rho_f u^2 A_{orthog}C_D/2$$\n",
    "where $A$ is the orthogonal area to the fluid, $C_D$ is the coefficient of drag, $u$ is the velocity and $rho_f$ is just the same thing as always. Then solving for $C_D$ gives\n",
    "$$C_D=\\frac{24}{Rei_p}$$\n",
    "and the particle reinolds number is $Rei_p=\\frac{uD}{V}<1$\n",
    "\n",
    "\n"
   ]
  },
  {
   "cell_type": "markdown",
   "metadata": {},
   "source": [
    "so the dimension evaluation becomes"
   ]
  },
  {
   "cell_type": "markdown",
   "metadata": {},
   "source": [
    "$$\\rho U/T +\\rho?=-\\rho g?-P/T+\\mu U/T^2$$"
   ]
  },
  {
   "cell_type": "markdown",
   "metadata": {},
   "source": [
    "if we associate $\\overline{U}$ with a time average of the velocity at one location over a given time period then (using some other properties of the \"mean\" process) we get"
   ]
  },
  {
   "cell_type": "markdown",
   "metadata": {},
   "source": [
    "$$\\rho \\frac{d\\overline{U}}{dt}+\\rho \\overline{U}\\nabla \\overline{U}=\n",
    "-\\rho g-\\nabla \\overline{P}+\\mu\\nabla^2\\overline{U}+\\rho\\nabla\\overline{(U')^2}$$"
   ]
  },
  {
   "cell_type": "markdown",
   "metadata": {},
   "source": [
    "The Reynold's stress associated with a process is \n",
    "$$ \\tau_R=\\rho\\nabla\\overline{(U')^2} \\approx \\rho \\frac{\\partial u'w'}{\\partial z} = \\rho K \\frac{\\partial u}{\\partial z}$$\n",
    "where we call $K$ an Eddy viscosity (same dimensions as kinematic viscosity) but enphasize that it is not equal to kinematic viscosity, i.e. :\n",
    "$$K\\neq \\nu= \\frac{\\mu}{\\rho}$$\n",
    "where $\\nu$ is kinematic viscosity and $\\mu$ is the molecular viscosity.\n",
    "\n"
   ]
  },
  {
   "cell_type": "markdown",
   "metadata": {},
   "source": [
    "Shear velocity takes into account the the vertical location from the Eddy viscosity\n",
    "$$K=kz\\left(1-\\frac{z}{h}\\right)u_*$$\n",
    "where k is the von karmen's constant and h is the height of the river at that location.\n",
    "We do all of this because we want to solve the issue that in this scale the molecular viscosity is no longer the dominant cause of fluid stress."
   ]
  },
  {
   "cell_type": "markdown",
   "metadata": {},
   "source": [
    "Note: we use Einsteins notation, so sub indices mean sum over those indices"
   ]
  },
  {
   "cell_type": "markdown",
   "metadata": {},
   "source": [
    "Normal flow == Steady flow + Horizontally uniform "
   ]
  },
  {
   "cell_type": "markdown",
   "metadata": {},
   "source": [
    " Our stress on the bed from the downstream direction, after simplifying becomes\n",
    " $$\n",
    " \\frac{\\partial\\tau_{zx}}{\\partial z}=\\rho g S\n",
    " $$\n",
    "where $S=\\frac{\\Delta z}{\\Delta x}\\approx \\sin(\\alpha)$ is the slope of the bed. And so integrating we get the near bed shear stress ($z=0$)\n",
    "$$\n",
    "\\tau_b=\\rho g h S\n",
    "$$\n",
    "\n"
   ]
  },
  {
   "cell_type": "markdown",
   "metadata": {},
   "source": [
    "Now, we extract a \"shear velocity\" from the shear stress as a velocity representation of the shear stress\n",
    "\n",
    "$$ \\tau_{zx}=\\rho k u_* z \\left(1-\\frac{z}{h}\\right)\\frac{\\partial u}{\\partial z}=\\rho u_*^2 $$"
   ]
  },
  {
   "cell_type": "markdown",
   "metadata": {},
   "source": [
    "$$\\frac{\\partial\\eta}{\\partial t}=-\\frac{\\partial q}{\\partial x}$$\n",
    "$$\\frac{\\eta(t_{n+1})-\\eta(t_{n})}{\\Delta t}=-\\frac{\\partial q}{\\partial x}$$\n",
    "$$\\eta(t_{n+1})-\\eta(t_{n})=\\Delta t\\frac{\\partial q}{\\partial x} $$\n",
    "$$\\Delta \\eta=\\Delta t\\frac{\\partial q}{\\partial x} $$"
   ]
  },
  {
   "cell_type": "markdown",
   "metadata": {},
   "source": []
  }
 ],
 "metadata": {
  "language_info": {
   "name": "python"
  },
  "orig_nbformat": 4
 },
 "nbformat": 4,
 "nbformat_minor": 2
}
