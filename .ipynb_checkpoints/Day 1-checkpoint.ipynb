{
 "cells": [
  {
   "cell_type": "markdown",
   "id": "a4fa4d20",
   "metadata": {},
   "source": [
    "<h3>Our coordinates system usual convention </h3> \n",
    "    <p> For directions we use\n",
    "        <ul>\n",
    "            <li>$x$ will be the downslope / down system direction </li>\n",
    "            <li>$y$ will be cross-stream direction</li>\n",
    "            <li>$z$ will be normal to $x$ and $y$ in a dominatly vertical direction</li>\n",
    "        </ul>\n",
    "    </p>\n",
    "    <p> For fluid velocitites we will use $U=(u, v, w)$ as coordinates. For sediment velocititeswe will use $U_s=(u_s, v_s, w_s)$\n",
    "    </p>"
   ]
  },
  {
   "cell_type": "markdown",
   "id": "0d314403",
   "metadata": {},
   "source": [
    "<h3>Picture of the setting with notations of particular boundaries</h3>\n",
    "    <p>(add picture here)\n",
    "        <ul>\n",
    "            <li>$\\eta$ as the bed elevation with respect to the datum</li>\n",
    "            <li>$b$ is the bed lower limit elevation with respect to the datum</li>\n",
    "            <li>$S$ is the height of the surface of the water with respect to the datum</li>\n",
    "            <li>$h=S-\\eta$ is the height of the water with respect to the bed</li>\n",
    "            <li>$a$ is the height upper limit of the water with respect to the datum</li>\n",
    "        </ul>\n",
    "    </p>\n"
   ]
  },
  {
   "cell_type": "markdown",
   "id": "5cb34f2b",
   "metadata": {},
   "source": [
    "<h3> Total derivative </h3>\n",
    "    <p>(From chain rule I think) (brief discussion on the density and how we will describe an incompressible fluid)\n",
    "        $$\\frac{d\\rho}{dt}=\\frac{\\partial \\rho}{\\partial t}+U\\nabla\\rho$$\n",
    "    an incompressible fluid is such that $\\frac{d\\rho}{dt}=0$.\n",
    "    </p>"
   ]
  },
  {
   "cell_type": "markdown",
   "id": "28110432",
   "metadata": {},
   "source": [
    "<h3> Types of loads </h3>\n",
    "    <p>Discussion around the types of loads\n",
    "        <ul>\n",
    "            <li>Washload is sediment that won't deposit on the bed again</li>\n",
    "            <li>Suspended load is... one that lingers longer but does deposit?</li>\n",
    "            <li>Bedload is the sediment that moves close to the bed?</li>\n",
    "            <li>The sum of these 3 adds up to the total load</li>\n",
    "        </ul>\n",
    "    </p>"
   ]
  },
  {
   "cell_type": "markdown",
   "id": "c76a8eb6",
   "metadata": {},
   "source": [
    "<h3> Volumetric concentration </h3>\n",
    "    <p> If we call\n",
    "        <ul>\n",
    "            <li>$V_s$ is the volume of sediment</li>\n",
    "            <li>$V_w$ is the volume of water</li>\n",
    "            <li>$V_T=V_s+V_w$ is the total volume</li>\n",
    "            <li>$\\varepsilon_s=\\frac{V_s}{V_T}$</li>\n",
    "            <li>The sum of these 3 adds up to the total load</li>\n",
    "        </ul>\n",
    "    </p>\n"
   ]
  },
  {
   "cell_type": "markdown",
   "id": "f7017f89",
   "metadata": {},
   "source": [
    "<h3> ...and we have an equivalent version of incompressibility in terms of volumetric density </h3>\n",
    "    <p> If we call\n",
    "        <ul>\n",
    "            <li>$V_s$ is the volume of sediment</li>\n",
    "            <li>$V_w$ is the volume of water</li>\n",
    "            <li>$V_T=V_s+V_w$ is the total volume</li>\n",
    "            <li>$\\varepsilon_s=\\frac{V_s}{V_T}$</li>\n",
    "            <li>$$\\frac{d\\varepsilon_s}{dt}=\\frac{\\partial \\varepsilon_s}{\\partial t}+U\\nabla\\varepsilon_s=0$$</li>\n",
    "        </ul>\n",
    "    </p>\n"
   ]
  },
  {
   "cell_type": "markdown",
   "id": "7cdb4e72",
   "metadata": {},
   "source": []
  },
  {
   "cell_type": "markdown",
   "id": "a66d3990",
   "metadata": {},
   "source": []
  }
 ],
 "metadata": {
  "kernelspec": {
   "display_name": "Python 3",
   "language": "python",
   "name": "python3"
  },
  "language_info": {
   "codemirror_mode": {
    "name": "ipython",
    "version": 3
   },
   "file_extension": ".py",
   "mimetype": "text/x-python",
   "name": "python",
   "nbconvert_exporter": "python",
   "pygments_lexer": "ipython3",
   "version": "3.8.10"
  }
 },
 "nbformat": 4,
 "nbformat_minor": 5
}
